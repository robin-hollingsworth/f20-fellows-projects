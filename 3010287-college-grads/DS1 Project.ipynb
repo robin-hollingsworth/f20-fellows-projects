{
 "cells": [
  {
   "cell_type": "markdown",
   "metadata": {},
   "source": [
    "# DS 1 Fellows Project: College Majors"
   ]
  },
  {
   "cell_type": "markdown",
   "metadata": {},
   "source": [
    "### By: Robin Hollingsworth"
   ]
  },
  {
   "cell_type": "markdown",
   "metadata": {},
   "source": [
    "We will be working with a dataset containing information on recent graduates for each major from the American Community Survey 2010-2012 Public Use Microdata Series. Everyone in this dataset, at the time, was under 28 years old. This dataset comes from fivethirtyeight: https://github.com/fivethirtyeight/data/tree/master/college-majors"
   ]
  },
  {
   "cell_type": "markdown",
   "metadata": {},
   "source": [
    "*PLAN/GOALS:*\n",
    "1. Clean data to remove unnecessary columns, etc.\n",
    "2. Incorporate if/else statements\n",
    "3. Find best majors in regard to unemployment rate, full-time, etc\n",
    "4. Explore the women to men ratios\n",
    "5. Maybe some visualizations? (simple bar chart, etc))"
   ]
  },
  {
   "cell_type": "code",
   "execution_count": 8,
   "metadata": {
    "scrolled": false
   },
   "outputs": [
    {
     "data": {
      "text/html": [
       "<table border=\"1\" class=\"dataframe\">\n",
       "    <thead>\n",
       "        <tr>\n",
       "            <th>Rank</th> <th>Major_code</th> <th>Major</th> <th>Total</th> <th>Men</th> <th>Women</th> <th>Major_category</th> <th>ShareWomen</th> <th>Sample_size</th> <th>Employed</th> <th>Full_time</th> <th>Part_time</th> <th>Full_time_year_round</th> <th>Unemployed</th> <th>Unemployment_rate</th> <th>Median</th> <th>P25th</th> <th>P75th</th> <th>College_jobs</th> <th>Non_college_jobs</th> <th>Low_wage_jobs</th>\n",
       "        </tr>\n",
       "    </thead>\n",
       "    <tbody>\n",
       "        <tr>\n",
       "            <td>1   </td> <td>2419      </td> <td>PETROLEUM ENGINEERING                    </td> <td>2339 </td> <td>2057 </td> <td>282  </td> <td>Engineering      </td> <td>0.120564  </td> <td>36         </td> <td>1976    </td> <td>1849     </td> <td>270      </td> <td>1207                </td> <td>37        </td> <td>0.0183805        </td> <td>110000</td> <td>95000</td> <td>125000</td> <td>1534        </td> <td>364             </td> <td>193          </td>\n",
       "        </tr>\n",
       "        <tr>\n",
       "            <td>2   </td> <td>2416      </td> <td>MINING AND MINERAL ENGINEERING           </td> <td>756  </td> <td>679  </td> <td>77   </td> <td>Engineering      </td> <td>0.101852  </td> <td>7          </td> <td>640     </td> <td>556      </td> <td>170      </td> <td>388                 </td> <td>85        </td> <td>0.117241         </td> <td>75000 </td> <td>55000</td> <td>90000 </td> <td>350         </td> <td>257             </td> <td>50           </td>\n",
       "        </tr>\n",
       "        <tr>\n",
       "            <td>3   </td> <td>2415      </td> <td>METALLURGICAL ENGINEERING                </td> <td>856  </td> <td>725  </td> <td>131  </td> <td>Engineering      </td> <td>0.153037  </td> <td>3          </td> <td>648     </td> <td>558      </td> <td>133      </td> <td>340                 </td> <td>16        </td> <td>0.0240964        </td> <td>73000 </td> <td>50000</td> <td>105000</td> <td>456         </td> <td>176             </td> <td>0            </td>\n",
       "        </tr>\n",
       "        <tr>\n",
       "            <td>4   </td> <td>2417      </td> <td>NAVAL ARCHITECTURE AND MARINE ENGINEERING</td> <td>1258 </td> <td>1123 </td> <td>135  </td> <td>Engineering      </td> <td>0.107313  </td> <td>16         </td> <td>758     </td> <td>1069     </td> <td>150      </td> <td>692                 </td> <td>40        </td> <td>0.0501253        </td> <td>70000 </td> <td>43000</td> <td>80000 </td> <td>529         </td> <td>102             </td> <td>0            </td>\n",
       "        </tr>\n",
       "        <tr>\n",
       "            <td>5   </td> <td>2405      </td> <td>CHEMICAL ENGINEERING                     </td> <td>32260</td> <td>21239</td> <td>11021</td> <td>Engineering      </td> <td>0.341631  </td> <td>289        </td> <td>25694   </td> <td>23170    </td> <td>5180     </td> <td>16697               </td> <td>1672      </td> <td>0.0610977        </td> <td>65000 </td> <td>50000</td> <td>75000 </td> <td>18314       </td> <td>4440            </td> <td>972          </td>\n",
       "        </tr>\n",
       "        <tr>\n",
       "            <td>6   </td> <td>2418      </td> <td>NUCLEAR ENGINEERING                      </td> <td>2573 </td> <td>2200 </td> <td>373  </td> <td>Engineering      </td> <td>0.144967  </td> <td>17         </td> <td>1857    </td> <td>2038     </td> <td>264      </td> <td>1449                </td> <td>400       </td> <td>0.177226         </td> <td>65000 </td> <td>50000</td> <td>102000</td> <td>1142        </td> <td>657             </td> <td>244          </td>\n",
       "        </tr>\n",
       "        <tr>\n",
       "            <td>7   </td> <td>6202      </td> <td>ACTUARIAL SCIENCE                        </td> <td>3777 </td> <td>2110 </td> <td>1667 </td> <td>Business         </td> <td>0.441356  </td> <td>51         </td> <td>2912    </td> <td>2924     </td> <td>296      </td> <td>2482                </td> <td>308       </td> <td>0.0956522        </td> <td>62000 </td> <td>53000</td> <td>72000 </td> <td>1768        </td> <td>314             </td> <td>259          </td>\n",
       "        </tr>\n",
       "        <tr>\n",
       "            <td>8   </td> <td>5001      </td> <td>ASTRONOMY AND ASTROPHYSICS               </td> <td>1792 </td> <td>832  </td> <td>960  </td> <td>Physical Sciences</td> <td>0.535714  </td> <td>10         </td> <td>1526    </td> <td>1085     </td> <td>553      </td> <td>827                 </td> <td>33        </td> <td>0.0211674        </td> <td>62000 </td> <td>31500</td> <td>109000</td> <td>972         </td> <td>500             </td> <td>220          </td>\n",
       "        </tr>\n",
       "        <tr>\n",
       "            <td>9   </td> <td>2414      </td> <td>MECHANICAL ENGINEERING                   </td> <td>91227</td> <td>80320</td> <td>10907</td> <td>Engineering      </td> <td>0.119559  </td> <td>1029       </td> <td>76442   </td> <td>71298    </td> <td>13101    </td> <td>54639               </td> <td>4650      </td> <td>0.0573423        </td> <td>60000 </td> <td>48000</td> <td>70000 </td> <td>52844       </td> <td>16384           </td> <td>3253         </td>\n",
       "        </tr>\n",
       "        <tr>\n",
       "            <td>10  </td> <td>2408      </td> <td>ELECTRICAL ENGINEERING                   </td> <td>81527</td> <td>65511</td> <td>16016</td> <td>Engineering      </td> <td>0.19645   </td> <td>631        </td> <td>61928   </td> <td>55450    </td> <td>12695    </td> <td>41413               </td> <td>3895      </td> <td>0.0591738        </td> <td>60000 </td> <td>45000</td> <td>72000 </td> <td>45829       </td> <td>10874           </td> <td>3170         </td>\n",
       "        </tr>\n",
       "    </tbody>\n",
       "</table>\n",
       "<p>... (163 rows omitted)</p>"
      ],
      "text/plain": [
       "Rank | Major_code | Major                                     | Total | Men   | Women | Major_category    | ShareWomen | Sample_size | Employed | Full_time | Part_time | Full_time_year_round | Unemployed | Unemployment_rate | Median | P25th | P75th  | College_jobs | Non_college_jobs | Low_wage_jobs\n",
       "1    | 2419       | PETROLEUM ENGINEERING                     | 2339  | 2057  | 282   | Engineering       | 0.120564   | 36          | 1976     | 1849      | 270       | 1207                 | 37         | 0.0183805         | 110000 | 95000 | 125000 | 1534         | 364              | 193\n",
       "2    | 2416       | MINING AND MINERAL ENGINEERING            | 756   | 679   | 77    | Engineering       | 0.101852   | 7           | 640      | 556       | 170       | 388                  | 85         | 0.117241          | 75000  | 55000 | 90000  | 350          | 257              | 50\n",
       "3    | 2415       | METALLURGICAL ENGINEERING                 | 856   | 725   | 131   | Engineering       | 0.153037   | 3           | 648      | 558       | 133       | 340                  | 16         | 0.0240964         | 73000  | 50000 | 105000 | 456          | 176              | 0\n",
       "4    | 2417       | NAVAL ARCHITECTURE AND MARINE ENGINEERING | 1258  | 1123  | 135   | Engineering       | 0.107313   | 16          | 758      | 1069      | 150       | 692                  | 40         | 0.0501253         | 70000  | 43000 | 80000  | 529          | 102              | 0\n",
       "5    | 2405       | CHEMICAL ENGINEERING                      | 32260 | 21239 | 11021 | Engineering       | 0.341631   | 289         | 25694    | 23170     | 5180      | 16697                | 1672       | 0.0610977         | 65000  | 50000 | 75000  | 18314        | 4440             | 972\n",
       "6    | 2418       | NUCLEAR ENGINEERING                       | 2573  | 2200  | 373   | Engineering       | 0.144967   | 17          | 1857     | 2038      | 264       | 1449                 | 400        | 0.177226          | 65000  | 50000 | 102000 | 1142         | 657              | 244\n",
       "7    | 6202       | ACTUARIAL SCIENCE                         | 3777  | 2110  | 1667  | Business          | 0.441356   | 51          | 2912     | 2924      | 296       | 2482                 | 308        | 0.0956522         | 62000  | 53000 | 72000  | 1768         | 314              | 259\n",
       "8    | 5001       | ASTRONOMY AND ASTROPHYSICS                | 1792  | 832   | 960   | Physical Sciences | 0.535714   | 10          | 1526     | 1085      | 553       | 827                  | 33         | 0.0211674         | 62000  | 31500 | 109000 | 972          | 500              | 220\n",
       "9    | 2414       | MECHANICAL ENGINEERING                    | 91227 | 80320 | 10907 | Engineering       | 0.119559   | 1029        | 76442    | 71298     | 13101     | 54639                | 4650       | 0.0573423         | 60000  | 48000 | 70000  | 52844        | 16384            | 3253\n",
       "10   | 2408       | ELECTRICAL ENGINEERING                    | 81527 | 65511 | 16016 | Engineering       | 0.19645    | 631         | 61928    | 55450     | 12695     | 41413                | 3895       | 0.0591738         | 60000  | 45000 | 72000  | 45829        | 10874            | 3170\n",
       "... (163 rows omitted)"
      ]
     },
     "execution_count": 8,
     "metadata": {},
     "output_type": "execute_result"
    }
   ],
   "source": [
    "import numpy as np\n",
    "from datascience import *\n",
    "\n",
    "grads = Table().read_table(\"recent-grads.csv\")\n",
    "grads"
   ]
  },
  {
   "cell_type": "code",
   "execution_count": null,
   "metadata": {},
   "outputs": [],
   "source": []
  }
 ],
 "metadata": {
  "kernelspec": {
   "display_name": "Python 3",
   "language": "python",
   "name": "python3"
  },
  "language_info": {
   "codemirror_mode": {
    "name": "ipython",
    "version": 3
   },
   "file_extension": ".py",
   "mimetype": "text/x-python",
   "name": "python",
   "nbconvert_exporter": "python",
   "pygments_lexer": "ipython3",
   "version": "3.8.6"
  }
 },
 "nbformat": 4,
 "nbformat_minor": 4
}
